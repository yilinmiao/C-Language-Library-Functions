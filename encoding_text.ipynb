{
  "nbformat": 4,
  "nbformat_minor": 0,
  "metadata": {
    "colab": {
      "provenance": [],
      "gpuType": "T4",
      "authorship_tag": "ABX9TyMHAFkQkqu1ExVlIFPp5FXq",
      "include_colab_link": true
    },
    "kernelspec": {
      "name": "python3",
      "display_name": "Python 3"
    },
    "language_info": {
      "name": "python"
    },
    "accelerator": "GPU"
  },
  "cells": [
    {
      "cell_type": "markdown",
      "metadata": {
        "id": "view-in-github",
        "colab_type": "text"
      },
      "source": [
        "<a href=\"https://colab.research.google.com/github/yilinmiao/C-Language-Library-Functions/blob/master/encoding_text.ipynb\" target=\"_parent\"><img src=\"https://colab.research.google.com/assets/colab-badge.svg\" alt=\"Open In Colab\"/></a>"
      ]
    },
    {
      "cell_type": "code",
      "execution_count": null,
      "metadata": {
        "id": "RuzMNUu4vN-D"
      },
      "outputs": [],
      "source": [
        "from __future__ import annotations\n",
        "\n",
        "import string\n",
        "import re\n",
        "from collections import defaultdict\n"
      ]
    },
    {
      "cell_type": "code",
      "source": [
        "sample_text = '''Mr. Louis continued to say, \"Penguins are important,\n",
        "but we mustn't forget the nuumber 1 priority: the READER!\"\n",
        "'''\n",
        "\n",
        "print(sample_text)"
      ],
      "metadata": {
        "id": "7_v0fnNw1lFH",
        "colab": {
          "base_uri": "https://localhost:8080/"
        },
        "outputId": "a1bef3c5-3a9f-4b8c-9f05-2da015ef8328"
      },
      "execution_count": 1,
      "outputs": [
        {
          "output_type": "stream",
          "name": "stdout",
          "text": [
            "Mr. Louis continued to say, \"Penguins are important, \n",
            "but we mustn't forget the nuumber 1 priority: the READER!\"\n",
            "\n"
          ]
        }
      ]
    }
  ]
}